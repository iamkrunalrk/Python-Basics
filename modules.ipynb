{
 "cells": [
  {
   "cell_type": "markdown",
   "metadata": {},
   "source": [
    "# Modules in Python\n",
    "Modules in Python are files containing Python code that can define functions, variables and classes. These modules can be reused in other python scripts by importing them. Python provides a wide range of built-in modules, and you can also create your own custom modules."
   ]
  },
  {
   "cell_type": "markdown",
   "metadata": {},
   "source": [
    "**1. Using Built-In Modules**: Python has a rich standard library with many built i modules that you can use to perform various tasks. You can import them using the `import` keyword."
   ]
  },
  {
   "cell_type": "code",
   "execution_count": 1,
   "metadata": {},
   "outputs": [
    {
     "name": "stdout",
     "output_type": "stream",
     "text": [
      "4.0\n",
      "3.141592653589793\n"
     ]
    }
   ],
   "source": [
    "# Importing the math module\n",
    "import math\n",
    "\n",
    "# Using function from the math module\n",
    "print(math.sqrt(16))\n",
    "print(math.pi)"
   ]
  },
  {
   "cell_type": "markdown",
   "metadata": {},
   "source": [
    "**2. Creating Custom Modules**: You can create your own modules by creating a Python file with functions, variables, or classes."
   ]
  },
  {
   "cell_type": "code",
   "execution_count": 13,
   "metadata": {},
   "outputs": [
    {
     "name": "stdout",
     "output_type": "stream",
     "text": [
      "Hello, David\n"
     ]
    }
   ],
   "source": [
    "# mymodule.py - create a python file with function, 'greet()', as below;\n",
    "# def greet(name=\"Guest\"):\n",
    "#     print(f\"Hello, {name}\")\n",
    "\n",
    "# Importing custom module\n",
    "import mymodule\n",
    "\n",
    "# importing the function\n",
    "mymodule.greet(\"David\")"
   ]
  },
  {
   "cell_type": "markdown",
   "metadata": {},
   "source": [
    "**3. Module Aliases**: You can give module aliases when importing them to make their names shorter and more convenient. "
   ]
  },
  {
   "cell_type": "code",
   "execution_count": 14,
   "metadata": {},
   "outputs": [
    {
     "name": "stdout",
     "output_type": "stream",
     "text": [
      "2.0\n"
     ]
    }
   ],
   "source": [
    "# importing math module with an aliases\n",
    "import math as m\n",
    "\n",
    "# Using aliases\n",
    "print(m.sqrt(4))"
   ]
  },
  {
   "cell_type": "markdown",
   "metadata": {},
   "source": [
    "**4. Importing Specific Functions or Variables**: If you need only specific functions or variable from a module, you can import them directly."
   ]
  },
  {
   "cell_type": "code",
   "execution_count": 15,
   "metadata": {},
   "outputs": [
    {
     "name": "stdout",
     "output_type": "stream",
     "text": [
      "5.0\n"
     ]
    }
   ],
   "source": [
    "# Importing only the sqrt function from the math module\n",
    "from math import sqrt\n",
    "\n",
    "print(sqrt(25))"
   ]
  },
  {
   "cell_type": "markdown",
   "metadata": {},
   "source": [
    "**5. Standard Library Module**: Python's Standard library inlcudes a wide variety of modules for tasks such as file handling (`os`, `io`) , working with date and time, (`datetime`), regular expression (`re`), and more. You can explore these modules in the Python Documentation."
   ]
  },
  {
   "cell_type": "markdown",
   "metadata": {},
   "source": [
    "**6. Creating Packages**: Packages are dictionary containing multiple python modules. You can create packages by organizing your modules into folder and includig a special `__init__.py` file in each folder. Python treats folder with this files as packages."
   ]
  },
  {
   "cell_type": "code",
   "execution_count": 18,
   "metadata": {},
   "outputs": [
    {
     "name": "stdout",
     "output_type": "stream",
     "text": [
      "5\n",
      "2\n"
     ]
    }
   ],
   "source": [
    "# Create a folder with files as below:\n",
    "# my_package/\n",
    "#     __init__.py\n",
    "#     module1.py\n",
    "#     module2.py\n",
    "\n",
    "\n",
    "# Importing modules from a package\n",
    "from my_package import module1, module2\n",
    "\n",
    "\n",
    "print(module1.addition_two_num(2,3))\n",
    "print(module2.subtract(7,5))"
   ]
  }
 ],
 "metadata": {
  "kernelspec": {
   "display_name": "Python 3",
   "language": "python",
   "name": "python3"
  },
  "language_info": {
   "codemirror_mode": {
    "name": "ipython",
    "version": 3
   },
   "file_extension": ".py",
   "mimetype": "text/x-python",
   "name": "python",
   "nbconvert_exporter": "python",
   "pygments_lexer": "ipython3",
   "version": "3.10.12"
  }
 },
 "nbformat": 4,
 "nbformat_minor": 2
}
