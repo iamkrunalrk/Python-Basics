{
 "cells": [
  {
   "cell_type": "markdown",
   "metadata": {},
   "source": [
    "# Functions in Python\n",
    "Functions in python allows you to encapsulate a block of code that performs a specific task, and you can reuse this code by calling the function whenever needed."
   ]
  },
  {
   "cell_type": "markdown",
   "metadata": {},
   "source": [
    "**1. Defining a Function**: To define a function in python, you use `def` keyword followed by the function name and parentheses. You can also specify parameters inside the parantheses if your function needs input values. The function body is intended."
   ]
  },
  {
   "cell_type": "code",
   "execution_count": 1,
   "metadata": {},
   "outputs": [
    {
     "name": "stdout",
     "output_type": "stream",
     "text": [
      "Hello, World!\n"
     ]
    }
   ],
   "source": [
    "# Defining a simle function without parameters\n",
    "def greet():\n",
    "    print(\"Hello, World!\")\n",
    "\n",
    "# Calling the function\n",
    "greet()"
   ]
  },
  {
   "cell_type": "markdown",
   "metadata": {},
   "source": [
    "**2. Function Parameters**: Functions can accept parameters (input values) that can be used inside the function. You specify the parameters inside the parantheses when defining a function."
   ]
  },
  {
   "cell_type": "code",
   "execution_count": 4,
   "metadata": {},
   "outputs": [
    {
     "name": "stdout",
     "output_type": "stream",
     "text": [
      "Hello, John\n"
     ]
    }
   ],
   "source": [
    "def greetings(name):\n",
    "    print(f\"Hello, {name}\")\n",
    "\n",
    "greetings(\"John\")"
   ]
  },
  {
   "cell_type": "markdown",
   "metadata": {},
   "source": [
    "**3. Return Values**: Function can return value using the `return()` statement. You can this to pass data back to the caller."
   ]
  },
  {
   "cell_type": "code",
   "execution_count": 1,
   "metadata": {},
   "outputs": [
    {
     "data": {
      "text/plain": [
       "7"
      ]
     },
     "execution_count": 1,
     "metadata": {},
     "output_type": "execute_result"
    }
   ],
   "source": [
    "# Defining a function that returns a value\n",
    "def add(x, y):\n",
    "    result = x + y\n",
    "    return result\n",
    "\n",
    "# Calling the function and storing the result\n",
    "sum_result = add(3,4)\n",
    "sum_result"
   ]
  },
  {
   "cell_type": "markdown",
   "metadata": {},
   "source": [
    "**4. Default Parameters**: You can specify default values for parameters. These values are used when user does not provide an argument for that parameter."
   ]
  },
  {
   "cell_type": "code",
   "execution_count": 2,
   "metadata": {},
   "outputs": [
    {
     "name": "stdout",
     "output_type": "stream",
     "text": [
      "Hello, Guest\n"
     ]
    }
   ],
   "source": [
    "# Function with default parameter\n",
    "def greet(name = \"Guest\"):\n",
    "    print(f\"Hello, {name}\")\n",
    "\n",
    "# Calling the function without an argument\n",
    "greet()"
   ]
  },
  {
   "cell_type": "markdown",
   "metadata": {},
   "source": [
    "**5. Variable Scope**: Variables defined inside a function have a local scope, meaning they are only accessible within the fuction. Variable defined outside functions have global scope, making them accessible from anywhere."
   ]
  },
  {
   "cell_type": "code",
   "execution_count": 3,
   "metadata": {},
   "outputs": [
    {
     "name": "stdout",
     "output_type": "stream",
     "text": [
      "10\n",
      "5\n"
     ]
    }
   ],
   "source": [
    "# Gloabal variable\n",
    "x = 10\n",
    "def print_global():\n",
    "    # Accessing the global variable\n",
    "    print(x)\n",
    "\n",
    "print_global()\n",
    "\n",
    "def print_local():\n",
    "    # local variable\n",
    "    y = 5\n",
    "    print(5)\n",
    "\n",
    "print_local()\n",
    "\n",
    "# Trying to access a local variable outside of its scope will result in an error"
   ]
  },
  {
   "cell_type": "markdown",
   "metadata": {},
   "source": [
    "**6. DocString**: You can add docstrings to your functions to provide a documentation about what the function does. This helps other (and yourself) understand how to use the function. "
   ]
  },
  {
   "cell_type": "code",
   "execution_count": 4,
   "metadata": {},
   "outputs": [
    {
     "data": {
      "text/plain": [
       "9"
      ]
     },
     "execution_count": 4,
     "metadata": {},
     "output_type": "execute_result"
    }
   ],
   "source": [
    "def sum_two(a, b):\n",
    "    \"\"\"\n",
    "    Add two numbers and returns the result\n",
    "\n",
    "    Parameters:\n",
    "    a (int) : The first number\n",
    "    b (int) : The second number\n",
    "\n",
    "    Returns:\n",
    "    int : The sum of a and b.\n",
    "    \"\"\"\n",
    "    result = a + b\n",
    "    return result\n",
    "\n",
    "sum_two(4,5)"
   ]
  },
  {
   "cell_type": "markdown",
   "metadata": {},
   "source": [
    "**7. Function Arguments**: You can pass arguments to a function using different methods, such as positional arguments, keyword arguments, and unpacking."
   ]
  },
  {
   "cell_type": "code",
   "execution_count": 5,
   "metadata": {},
   "outputs": [
    {
     "name": "stdout",
     "output_type": "stream",
     "text": [
      "Name: Alice, Age: 23.\n",
      "Name: Bob, Age: 31.\n",
      "Name: Charlie, Age: 27.\n"
     ]
    }
   ],
   "source": [
    "def print_info(name, age):\n",
    "    print(f\"Name: {name}, Age: {age}.\")\n",
    "\n",
    "# Positional Arguments\n",
    "print_info(name=\"Alice\", age=23)\n",
    "\n",
    "# Keyword Arguments\n",
    "print_info(age=31, name=\"Bob\")\n",
    "\n",
    "# Unpacking a list or tuple\n",
    "info = (\"Charlie\", 27)\n",
    "print_info(*info)"
   ]
  }
 ],
 "metadata": {
  "kernelspec": {
   "display_name": "Python 3",
   "language": "python",
   "name": "python3"
  },
  "language_info": {
   "codemirror_mode": {
    "name": "ipython",
    "version": 3
   },
   "file_extension": ".py",
   "mimetype": "text/x-python",
   "name": "python",
   "nbconvert_exporter": "python",
   "pygments_lexer": "ipython3",
   "version": "3.10.12"
  }
 },
 "nbformat": 4,
 "nbformat_minor": 2
}
