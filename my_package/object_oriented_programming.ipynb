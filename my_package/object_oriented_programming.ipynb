{
 "cells": [
  {
   "cell_type": "markdown",
   "metadata": {},
   "source": [
    "# Object-Oriented-Programming"
   ]
  },
  {
   "cell_type": "markdown",
   "metadata": {},
   "source": [
    "Object-Oriented Programming (OOP) is a programming paradigm that uses objects to represent real-world entities and their interactions. Python is an object-oriented language, and understanding OOP is crucial.\n",
    "<br>\n",
    "<br>\n",
    "\n",
    "**1. Classes and Objects** : Class: A class is a blueprint for creating objects. It defines the attributes (properties) and methods (functions) that the objects of the class will have.\n",
    "\n",
    "**Object**: An object is an instance of a class. It's a concrete entity created based on the class definition.  \n",
    "<br>\n",
    "<br>\n",
    "\n",
    "**Defining a Class**: You can define a class using the class keyword."
   ]
  },
  {
   "cell_type": "code",
   "execution_count": 1,
   "metadata": {},
   "outputs": [
    {
     "name": "stdout",
     "output_type": "stream",
     "text": [
      "Alice\n",
      "Hello, my name is Bob and I am 25 years old.\n"
     ]
    }
   ],
   "source": [
    "class Person:\n",
    "    def __init__(self, name, age):\n",
    "        self.name = name\n",
    "        self.age = age\n",
    "\n",
    "    def say_hello(self):\n",
    "        print(f\"Hello, my name is {self.name} and I am {self.age} years old.\")\n",
    "\n",
    "# Creating objects (instances) of the class\n",
    "person1 = Person(\"Alice\", 30)\n",
    "person2 = Person(\"Bob\", 25)\n",
    "\n",
    "# Accessing object attributes and calling methods\n",
    "print(person1.name)  # Output: Alice\n",
    "person2.say_hello()  # Output: Hello, my name is Bob and I am 25 years old."
   ]
  },
  {
   "cell_type": "markdown",
   "metadata": {},
   "source": [
    "**2. Constructor (__init__ method)**: The `__init__` method is a special method in Python classes. It's called when an object of the class is created and is used to initialize object attributes.  \n",
    "\n",
    "<br> \n",
    "\n",
    "**Inheritance**: Inheritance allows you to create a new class based on an existing class. The new class inherits attributes and methods from the base class."
   ]
  },
  {
   "cell_type": "code",
   "execution_count": 2,
   "metadata": {},
   "outputs": [
    {
     "name": "stdout",
     "output_type": "stream",
     "text": [
      "Hello, my name is Charlie and I am 20 years old.\n",
      "Charlie is studying.\n"
     ]
    }
   ],
   "source": [
    "class Student(Person):\n",
    "    def __init__(self, name, age, student_id):\n",
    "        super().__init__(name, age)  # Call the constructor of the base class\n",
    "        self.student_id = student_id\n",
    "\n",
    "    def study(self):\n",
    "        print(f\"{self.name} is studying.\")\n",
    "\n",
    "student = Student(\"Charlie\", 20, \"S12345\")\n",
    "student.say_hello()  # Output: Hello, my name is Charlie and I am 20 years old.\n",
    "student.study()      # Output: Charlie is studying."
   ]
  },
  {
   "cell_type": "markdown",
   "metadata": {},
   "source": [
    "**3. Encapsulation**: Encapsulation is the concept of restricting access to certain parts of an object. In Python, you can use private attributes and methods by prefixing them with an underscore ( `_` )."
   ]
  },
  {
   "cell_type": "code",
   "execution_count": 3,
   "metadata": {},
   "outputs": [
    {
     "name": "stdout",
     "output_type": "stream",
     "text": [
      "1300\n"
     ]
    }
   ],
   "source": [
    "class BankAccount:\n",
    "    def __init__(self, balance):\n",
    "        self._balance = balance  # Private attribute\n",
    "\n",
    "    def deposit(self, amount):\n",
    "        if amount > 0:\n",
    "            self._balance += amount\n",
    "\n",
    "    def withdraw(self, amount):\n",
    "        if 0 < amount <= self._balance:\n",
    "            self._balance -= amount\n",
    "\n",
    "    def get_balance(self):\n",
    "        return self._balance\n",
    "\n",
    "account = BankAccount(1000)\n",
    "account.deposit(500)\n",
    "account.withdraw(200)\n",
    "print(account.get_balance())  # Output: 1300"
   ]
  },
  {
   "cell_type": "markdown",
   "metadata": {},
   "source": [
    "**4. Polymorphism**: Polymorphism allows objects of different classes to be treated as objects of a common base class. It enables flexibility and extensibility in your code."
   ]
  },
  {
   "cell_type": "code",
   "execution_count": 4,
   "metadata": {},
   "outputs": [
    {
     "name": "stdout",
     "output_type": "stream",
     "text": [
      "Hello, my name is Alice and I am 30 years old.\n",
      "Hello, my name is Bob and I am 25 years old.\n"
     ]
    }
   ],
   "source": [
    "def introduce(person):\n",
    "    person.say_hello()\n",
    "\n",
    "alice = Person(\"Alice\", 30)\n",
    "bob = Student(\"Bob\", 25, \"S12345\")\n",
    "\n",
    "introduce(alice)  # Output: Hello, my name is Alice and I am 30 years old.\n",
    "introduce(bob)    # Output: Hello, my name is Bob and I am 25 years old."
   ]
  }
 ],
 "metadata": {
  "kernelspec": {
   "display_name": "Python 3",
   "language": "python",
   "name": "python3"
  },
  "language_info": {
   "codemirror_mode": {
    "name": "ipython",
    "version": 3
   },
   "file_extension": ".py",
   "mimetype": "text/x-python",
   "name": "python",
   "nbconvert_exporter": "python",
   "pygments_lexer": "ipython3",
   "version": "3.10.12"
  }
 },
 "nbformat": 4,
 "nbformat_minor": 2
}
