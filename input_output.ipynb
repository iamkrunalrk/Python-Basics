{
 "cells": [
  {
   "cell_type": "markdown",
   "metadata": {},
   "source": [
    "# Basic Input and Output in Python"
   ]
  },
  {
   "cell_type": "markdown",
   "metadata": {},
   "source": [
    "1. **Basic Input in Python**: You can get input from user usng the `input()` function. Here's how it works,"
   ]
  },
  {
   "cell_type": "code",
   "execution_count": 1,
   "metadata": {},
   "outputs": [],
   "source": [
    "# Getting input from the user\n",
    "name = input(\"Enter your name: \")"
   ]
  },
  {
   "cell_type": "markdown",
   "metadata": {},
   "source": [
    "In the above example, the `input()` function displays the message `Enter your name: ` to the user, and the user's answer is stored in `name` variable."
   ]
  },
  {
   "cell_type": "markdown",
   "metadata": {},
   "source": [
    "2. **Basic Output in Python**: In Python, You can display the output and combine them with strings."
   ]
  },
  {
   "cell_type": "code",
   "execution_count": 8,
   "metadata": {},
   "outputs": [
    {
     "name": "stdout",
     "output_type": "stream",
     "text": [
      "Name: John\n",
      "Age: 35\n"
     ]
    }
   ],
   "source": [
    "name = \"John\"\n",
    "age = 35\n",
    "day = 3\n",
    "print(\"Name:\", name)\n",
    "print(\"Age:\", age)"
   ]
  },
  {
   "cell_type": "markdown",
   "metadata": {},
   "source": [
    "3. **Formatted Output**: You can format the output using `f-string` (formatted string literals) or the `.format` method. For example,"
   ]
  },
  {
   "cell_type": "code",
   "execution_count": 12,
   "metadata": {},
   "outputs": [
    {
     "name": "stdout",
     "output_type": "stream",
     "text": [
      "Name: John, Age: 25\n",
      "Month: January, Day: Sunday\n"
     ]
    }
   ],
   "source": [
    "# Using the f-string\n",
    "name = \"John\"\n",
    "age = 25\n",
    "print(f\"Name: {name}, Age: {age}\")\n",
    "\n",
    "# Using the .formate method\n",
    "month = \"January\"\n",
    "day = \"Sunday\"\n",
    "print(\"Month: {}, Day: {}\".format(month,day))"
   ]
  },
  {
   "cell_type": "markdown",
   "metadata": {},
   "source": [
    "4. **Conversion Between Data Types**: When you use `input()`, it returns a string. If you need to perform a numerical operations, you many need to convert the input into an integer or float."
   ]
  },
  {
   "cell_type": "code",
   "execution_count": 20,
   "metadata": {},
   "outputs": [
    {
     "data": {
      "text/plain": [
       "int"
      ]
     },
     "execution_count": 20,
     "metadata": {},
     "output_type": "execute_result"
    }
   ],
   "source": [
    "# Converting an input into Integer\n",
    "num1 = input(\"Enter number 1: \")\n",
    "num1 = int(num1)\n",
    "type(num1)"
   ]
  },
  {
   "cell_type": "code",
   "execution_count": 21,
   "metadata": {},
   "outputs": [
    {
     "data": {
      "text/plain": [
       "float"
      ]
     },
     "execution_count": 21,
     "metadata": {},
     "output_type": "execute_result"
    }
   ],
   "source": [
    "# Converting input into float\n",
    "num2 = float(input(\"Enter a number: \"))\n",
    "type(num2)"
   ]
  },
  {
   "cell_type": "markdown",
   "metadata": {},
   "source": [
    "5. **Multiple Inputs**: You can get multiple inputs from the user and split them using the `split()` method. By default, `split()` splits using the input spaces."
   ]
  },
  {
   "cell_type": "code",
   "execution_count": 23,
   "metadata": {},
   "outputs": [
    {
     "name": "stdout",
     "output_type": "stream",
     "text": [
      "54 76\n"
     ]
    }
   ],
   "source": [
    "values = input('Enter two values: ')\n",
    "values1, values2 = values.split()\n",
    "values1 = int(values1)\n",
    "values2 = int(values2)\n",
    "print(values1, values2)"
   ]
  },
  {
   "cell_type": "markdown",
   "metadata": {},
   "source": [
    "6. **Using Command-Line Arguments**: In addition to user input, you can also get input from command-line arguments when running python script. You can access these arguments using the `sys.argv` list from the `sys` module."
   ]
  },
  {
   "cell_type": "code",
   "execution_count": 25,
   "metadata": {},
   "outputs": [],
   "source": [
    "import sys\n",
    "\n",
    "# Accessing command-line arguments\n",
    "argv1 = sys.argv[1] # The first argument\n",
    "argv2 = sys.argv[2] # The seconf argument"
   ]
  },
  {
   "cell_type": "code",
   "execution_count": null,
   "metadata": {},
   "outputs": [],
   "source": []
  }
 ],
 "metadata": {
  "kernelspec": {
   "display_name": "Python 3",
   "language": "python",
   "name": "python3"
  },
  "language_info": {
   "codemirror_mode": {
    "name": "ipython",
    "version": 3
   },
   "file_extension": ".py",
   "mimetype": "text/x-python",
   "name": "python",
   "nbconvert_exporter": "python",
   "pygments_lexer": "ipython3",
   "version": "3.10.12"
  }
 },
 "nbformat": 4,
 "nbformat_minor": 2
}
