{
 "cells": [
  {
   "cell_type": "markdown",
   "metadata": {},
   "source": [
    "# Operators in Python"
   ]
  },
  {
   "cell_type": "markdown",
   "metadata": {},
   "source": [
    "1. **Arithmetic Operators**: Arithmetic operators allow you to perform mathematical opertions on numbers in Python."
   ]
  },
  {
   "cell_type": "code",
   "execution_count": 6,
   "metadata": {},
   "outputs": [
    {
     "data": {
      "text/plain": [
       "(6, 3, 9, 13.333333333333334, 13, 2, 8)"
      ]
     },
     "execution_count": 6,
     "metadata": {},
     "output_type": "execute_result"
    }
   ],
   "source": [
    "# Addition\n",
    "add = 2 + 4\n",
    "\n",
    "# Subtraction\n",
    "sub = 5 - 2\n",
    "\n",
    "# Multiplication\n",
    "mult = 3 * 3\n",
    "\n",
    "# Division\n",
    "div = 40/3\n",
    "\n",
    "# Integer Division (Floor Division)\n",
    "floorDiv = 40//3\n",
    "\n",
    "# Modulus (Remainder)\n",
    "modu = 16 % 7\n",
    "\n",
    "# Exponentiation\n",
    "expo = 2 ** 3\n",
    "\n",
    "add, sub, mult, div, floorDiv, modu, expo"
   ]
  },
  {
   "cell_type": "markdown",
   "metadata": {},
   "source": [
    "2. **Comparision Operators**: Comparision operators are used to compare the values and return `True` or `False`(Boolean)."
   ]
  },
  {
   "cell_type": "code",
   "execution_count": 9,
   "metadata": {},
   "outputs": [
    {
     "data": {
      "text/plain": [
       "(True, True, False, False, True, False)"
      ]
     },
     "execution_count": 9,
     "metadata": {},
     "output_type": "execute_result"
    }
   ],
   "source": [
    "# Equal to\n",
    "equal_to = 5 == 5\n",
    "\n",
    "# Not Equal to\n",
    "not_equal_to = 4 != 3\n",
    "\n",
    "# Greater than\n",
    "greater_than = 3 > 5\n",
    "\n",
    "# Less than\n",
    "less_than = 6 > 6\n",
    "\n",
    "# Greater than or equal to\n",
    "greater_equal = 5 >= 5\n",
    "\n",
    "# Less than or equal to \n",
    "less_equal = 6 <= 3\n",
    "\n",
    "equal_to, not_equal_to, greater_than, less_than, greater_equal, less_equal"
   ]
  },
  {
   "cell_type": "markdown",
   "metadata": {},
   "source": [
    "3. **Logical Operators**: Logical operators are used to combine and manipulate boolean values"
   ]
  },
  {
   "cell_type": "code",
   "execution_count": 11,
   "metadata": {},
   "outputs": [
    {
     "data": {
      "text/plain": [
       "(True, False, True, False, False, True)"
      ]
     },
     "execution_count": 11,
     "metadata": {},
     "output_type": "execute_result"
    }
   ],
   "source": [
    "# Logical AND\n",
    "t_and_t = True and True     # Returns 'True' if both conditions are True\n",
    "t_and_f = True and False    # Returns 'False', both condition must be 'True'\n",
    "\n",
    "# Logical OR\n",
    "t_or_f = True or False      # Returns 'True' if any of the condition is True\n",
    "f_or_f = False or False     # Returns 'False', none of the condition is True\n",
    "\n",
    "# Logical NOT\n",
    "not_t = not True            # Returns 'False', instead of True\n",
    "not_f = not False           # Returns 'True', instead of False\n",
    "\n",
    "t_and_t, t_and_f, t_or_f, f_or_f, not_t, not_f"
   ]
  },
  {
   "cell_type": "markdown",
   "metadata": {},
   "source": [
    "4. **Operators Precedence**: Operators in Python have precedence rules that determine the order of evaluation. For example, multiplication is performed before addition."
   ]
  },
  {
   "cell_type": "code",
   "execution_count": 12,
   "metadata": {},
   "outputs": [
    {
     "data": {
      "text/plain": [
       "11"
      ]
     },
     "execution_count": 12,
     "metadata": {},
     "output_type": "execute_result"
    }
   ],
   "source": [
    "precedence = 5 + 2 * 3\n",
    "precedence"
   ]
  },
  {
   "cell_type": "markdown",
   "metadata": {},
   "source": [
    "You can use the parentheses to control the precedence."
   ]
  },
  {
   "cell_type": "code",
   "execution_count": 14,
   "metadata": {},
   "outputs": [
    {
     "data": {
      "text/plain": [
       "21"
      ]
     },
     "execution_count": 14,
     "metadata": {},
     "output_type": "execute_result"
    }
   ],
   "source": [
    "precedence_1 = (5 + 2) * 3\n",
    "precedence_1"
   ]
  },
  {
   "cell_type": "markdown",
   "metadata": {},
   "source": [
    "5. **Chaining Operators**: You can chain operators together for more complex conditions."
   ]
  },
  {
   "cell_type": "code",
   "execution_count": 17,
   "metadata": {},
   "outputs": [
    {
     "data": {
      "text/plain": [
       "(True, False)"
      ]
     },
     "execution_count": 17,
     "metadata": {},
     "output_type": "execute_result"
    }
   ],
   "source": [
    "x = 5\n",
    "y = 10\n",
    "\n",
    "result_1 = 1 < x < 10 # Returns 'True' if the value of the x is greater than 1 and less than 10, or else 'False'\n",
    "result_2 = x < y <= 7 # Returns 'True' if the value of the y is greater than x and less than or equal to 20, or else 'False'\n",
    "\n",
    "result_1, result_2"
   ]
  }
 ],
 "metadata": {
  "kernelspec": {
   "display_name": "Python 3",
   "language": "python",
   "name": "python3"
  },
  "language_info": {
   "codemirror_mode": {
    "name": "ipython",
    "version": 3
   },
   "file_extension": ".py",
   "mimetype": "text/x-python",
   "name": "python",
   "nbconvert_exporter": "python",
   "pygments_lexer": "ipython3",
   "version": "3.10.12"
  }
 },
 "nbformat": 4,
 "nbformat_minor": 2
}
