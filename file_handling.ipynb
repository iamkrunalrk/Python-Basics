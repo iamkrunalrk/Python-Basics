{
 "cells": [
  {
   "cell_type": "markdown",
   "metadata": {},
   "source": [
    "# File Handling in Python"
   ]
  },
  {
   "cell_type": "markdown",
   "metadata": {},
   "source": [
    "File Handling in Python allows you to read data from file and write data to files. You can work with various file types, such as text files, binary files. "
   ]
  },
  {
   "cell_type": "markdown",
   "metadata": {},
   "source": [
    "**1. Opening and Closing of File**: Before you can read from or write to a file, you need to open it using the `open()` function. You should also close the file when you are done with it to free up the system resources. the `open()` function takes two arguments: file name and the mode(read, write or append). "
   ]
  },
  {
   "cell_type": "code",
   "execution_count": 1,
   "metadata": {},
   "outputs": [],
   "source": [
    "# Opening a file in read more\n",
    "file = open(\"sample.txt\", \"r\")\n",
    "\n",
    "# Do some operation\n",
    "\n",
    "# Closing the file\n",
    "file.close()"
   ]
  },
  {
   "cell_type": "markdown",
   "metadata": {},
   "source": [
    "**2. Reading from a File**: You can read the content of a file using various methods. The most common method is `read()` which reads the entire file."
   ]
  },
  {
   "cell_type": "code",
   "execution_count": 2,
   "metadata": {},
   "outputs": [
    {
     "name": "stdout",
     "output_type": "stream",
     "text": [
      "Hello, World\n",
      "This is text file for python file handling.\n",
      "Have a nice day!\n"
     ]
    }
   ],
   "source": [
    "# Opening file in read mode\n",
    "file = open(\"sample.txt\", \"r\")\n",
    "\n",
    "# read the entire file\n",
    "content = file.read()\n",
    "\n",
    "# Closing the file\n",
    "file.close()\n",
    "\n",
    "print(content)"
   ]
  },
  {
   "cell_type": "markdown",
   "metadata": {},
   "source": [
    "You can also read the file line by line usig for loop"
   ]
  },
  {
   "cell_type": "code",
   "execution_count": 3,
   "metadata": {},
   "outputs": [
    {
     "name": "stdout",
     "output_type": "stream",
     "text": [
      "Hello, World\n",
      "\n",
      "This is text file for python file handling.\n",
      "\n",
      "Have a nice day!\n"
     ]
    }
   ],
   "source": [
    "# Opening a file in read more\n",
    "file = open(\"sample.txt\", \"r\")\n",
    "\n",
    "# Reading line by line\n",
    "for line in file:\n",
    "    print(line)\n",
    "\n",
    "# Closing the file\n",
    "file.close()"
   ]
  },
  {
   "cell_type": "markdown",
   "metadata": {},
   "source": [
    "**3. Writing to a File**: To write to a file, you need to open it in write more (`'w'`). Be cautious when opening a file in write mode, as it will overwrite the existing content."
   ]
  },
  {
   "cell_type": "code",
   "execution_count": 6,
   "metadata": {},
   "outputs": [],
   "source": [
    "# Opening the file in write mode\n",
    "file1 = open(\"sample1.txt\", \"w\")\n",
    "\n",
    "# Writing to the file\n",
    "file1.write(\"This is a new written line.\")\n",
    "\n",
    "# Closing the file\n",
    "file1.close()"
   ]
  },
  {
   "cell_type": "markdown",
   "metadata": {},
   "source": [
    "You can also append content to an existing file using append mode (`'a'`)."
   ]
  },
  {
   "cell_type": "code",
   "execution_count": 8,
   "metadata": {},
   "outputs": [],
   "source": [
    "# Open the file in append mode\n",
    "file2 = open(\"sample.txt\", \"a\")\n",
    "\n",
    "# Appending to the file\n",
    "file2.write(\"This is a new file with append mode.\")\n",
    "\n",
    "# Closing the file\n",
    "file2.close()"
   ]
  },
  {
   "cell_type": "markdown",
   "metadata": {},
   "source": [
    "**4. Using the with Statement**: A better practice for working with file is to use the `with` statement, which automatically closes the file when you are done. This ensures that the file is properly closed even if an exception occurs."
   ]
  },
  {
   "cell_type": "code",
   "execution_count": 9,
   "metadata": {},
   "outputs": [
    {
     "name": "stdout",
     "output_type": "stream",
     "text": [
      "Hello, World.\n",
      "This is file handling in python.\n",
      "You can use this as sample file.This is a new file with append mode.This is a new file with append mode.\n"
     ]
    }
   ],
   "source": [
    "# Using the with statement to open and automatically close the file\n",
    "with open(\"sample.txt\", \"r\") as file:\n",
    "    content = file.read()\n",
    "\n",
    "print(content)"
   ]
  },
  {
   "cell_type": "markdown",
   "metadata": {},
   "source": [
    "**5. Working with Binary Files**: You can also read any write binary files, such as image or binary data."
   ]
  },
  {
   "cell_type": "code",
   "execution_count": null,
   "metadata": {},
   "outputs": [],
   "source": [
    "# Reading a binary file (e.g., Image)\n",
    "with open(\"image.jpg\", \"rb\") as binary_file:\n",
    "    binary_data = binary_file.read()\n",
    "\n",
    "# Writing binary data to a file\n",
    "with open(\"output.jpg\", \"wb\") as output_file:\n",
    "    output_file.write(binary_data)"
   ]
  }
 ],
 "metadata": {
  "kernelspec": {
   "display_name": "Python 3",
   "language": "python",
   "name": "python3"
  },
  "language_info": {
   "codemirror_mode": {
    "name": "ipython",
    "version": 3
   },
   "file_extension": ".py",
   "mimetype": "text/x-python",
   "name": "python",
   "nbconvert_exporter": "python",
   "pygments_lexer": "ipython3",
   "version": "3.10.12"
  }
 },
 "nbformat": 4,
 "nbformat_minor": 2
}
